{
 "cells": [
  {
   "cell_type": "markdown",
   "id": "eb0ec300-9bf4-46f6-afd7-f78ab2cb8239",
   "metadata": {},
   "source": [
    "Emlak Fiyatlarını Yapay Zeka Kullanarak Tahmin Etme"
   ]
  },
  {
   "cell_type": "markdown",
   "id": "79af9815-d403-4a52-9f73-fea02ab6baa6",
   "metadata": {},
   "source": [
    "Bunun için linear regresyon kullanacağız."
   ]
  },
  {
   "cell_type": "code",
   "execution_count": 18,
   "id": "d2c87194-94fa-4361-bc22-0ad1a9eca2d3",
   "metadata": {},
   "outputs": [],
   "source": [
    "import pandas as pd\n",
    "import numpy as np\n",
    "import matplotlib.pyplot as plt\n",
    "from sklearn.linear_model import LinearRegression\n",
    "from sklearn.model_selection import train_test_split"
   ]
  },
  {
   "cell_type": "code",
   "execution_count": 9,
   "id": "4a4f489b-a759-405a-8831-4111c31d456f",
   "metadata": {},
   "outputs": [
    {
     "data": {
      "text/html": [
       "<div>\n",
       "<style scoped>\n",
       "    .dataframe tbody tr th:only-of-type {\n",
       "        vertical-align: middle;\n",
       "    }\n",
       "\n",
       "    .dataframe tbody tr th {\n",
       "        vertical-align: top;\n",
       "    }\n",
       "\n",
       "    .dataframe thead th {\n",
       "        text-align: right;\n",
       "    }\n",
       "</style>\n",
       "<table border=\"1\" class=\"dataframe\">\n",
       "  <thead>\n",
       "    <tr style=\"text-align: right;\">\n",
       "      <th></th>\n",
       "      <th>alan</th>\n",
       "      <th>odasayisi</th>\n",
       "      <th>binayasi</th>\n",
       "      <th>fiyat</th>\n",
       "    </tr>\n",
       "  </thead>\n",
       "  <tbody>\n",
       "    <tr>\n",
       "      <th>0</th>\n",
       "      <td>180</td>\n",
       "      <td>5</td>\n",
       "      <td>10</td>\n",
       "      <td>510000</td>\n",
       "    </tr>\n",
       "    <tr>\n",
       "      <th>1</th>\n",
       "      <td>225</td>\n",
       "      <td>4</td>\n",
       "      <td>18</td>\n",
       "      <td>508000</td>\n",
       "    </tr>\n",
       "    <tr>\n",
       "      <th>2</th>\n",
       "      <td>260</td>\n",
       "      <td>3</td>\n",
       "      <td>2</td>\n",
       "      <td>548000</td>\n",
       "    </tr>\n",
       "    <tr>\n",
       "      <th>3</th>\n",
       "      <td>320</td>\n",
       "      <td>6</td>\n",
       "      <td>10</td>\n",
       "      <td>650000</td>\n",
       "    </tr>\n",
       "    <tr>\n",
       "      <th>4</th>\n",
       "      <td>335</td>\n",
       "      <td>4</td>\n",
       "      <td>9</td>\n",
       "      <td>628000</td>\n",
       "    </tr>\n",
       "  </tbody>\n",
       "</table>\n",
       "</div>"
      ],
      "text/plain": [
       "   alan  odasayisi  binayasi   fiyat\n",
       "0   180          5        10  510000\n",
       "1   225          4        18  508000\n",
       "2   260          3         2  548000\n",
       "3   320          6        10  650000\n",
       "4   335          4         9  628000"
      ]
     },
     "execution_count": 9,
     "metadata": {},
     "output_type": "execute_result"
    }
   ],
   "source": [
    "df = pd.read_csv('multilinearregression.csv',sep=';')\n",
    "df.head()"
   ]
  },
  {
   "cell_type": "markdown",
   "id": "5a562820-e615-430e-a693-01e96185e689",
   "metadata": {},
   "source": [
    "Verisetimizin bağımlı ve bağımsız değişkenlerini seçtikten sonra bunları train ve test olarak ayırıyoruz."
   ]
  },
  {
   "cell_type": "code",
   "execution_count": 25,
   "id": "79d0741d-6a78-453b-9110-6980b10ab1db",
   "metadata": {},
   "outputs": [],
   "source": [
    "x = df[['alan','odasayisi','binayasi']]\n",
    "y = df['fiyat']"
   ]
  },
  {
   "cell_type": "code",
   "execution_count": 22,
   "id": "fefa4be0-3a94-4ee0-b471-5bc5fa1d55f1",
   "metadata": {},
   "outputs": [],
   "source": [
    "x_train, x_test, y_train, y_test = train_test_split(x, y, test_size=0.2, random_state=42)"
   ]
  },
  {
   "cell_type": "markdown",
   "id": "b31c2fd3-83c9-45b6-8dbf-38a73b406686",
   "metadata": {},
   "source": [
    "Linear regresyon modeli oluşturup fit ediyoruz:"
   ]
  },
  {
   "cell_type": "code",
   "execution_count": 28,
   "id": "323214aa-8c66-44d2-8f7c-5b7d11d3b925",
   "metadata": {},
   "outputs": [],
   "source": [
    "reg = LinearRegression().fit(x_train, y_train)"
   ]
  },
  {
   "cell_type": "markdown",
   "id": "136efc8f-bc0f-4983-9f00-0ad270b9b614",
   "metadata": {},
   "source": [
    "Tahmin:"
   ]
  },
  {
   "cell_type": "code",
   "execution_count": 31,
   "id": "71ff1fcc-04c5-4e22-9603-f034c4698511",
   "metadata": {},
   "outputs": [
    {
     "name": "stderr",
     "output_type": "stream",
     "text": [
      "C:\\Users\\dlara\\anaconda3\\Lib\\site-packages\\sklearn\\base.py:493: UserWarning: X does not have valid feature names, but LinearRegression was fitted with feature names\n",
      "  warnings.warn(\n"
     ]
    },
    {
     "data": {
      "text/plain": [
       "array([564340.61635717])"
      ]
     },
     "execution_count": 31,
     "metadata": {},
     "output_type": "execute_result"
    }
   ],
   "source": [
    "reg.predict([[275,3,11]])"
   ]
  },
  {
   "cell_type": "code",
   "execution_count": 33,
   "id": "63cf2dcf-7a29-436a-9213-c09644fb10bb",
   "metadata": {},
   "outputs": [
    {
     "name": "stderr",
     "output_type": "stream",
     "text": [
      "C:\\Users\\dlara\\anaconda3\\Lib\\site-packages\\sklearn\\base.py:493: UserWarning: X does not have valid feature names, but LinearRegression was fitted with feature names\n",
      "  warnings.warn(\n"
     ]
    },
    {
     "data": {
      "text/plain": [
       "array([578790.79415251])"
      ]
     },
     "execution_count": 33,
     "metadata": {},
     "output_type": "execute_result"
    }
   ],
   "source": [
    "reg.predict([[230,6,0]])"
   ]
  },
  {
   "cell_type": "code",
   "execution_count": 35,
   "id": "9fd572ec-8a37-44f4-8b8f-bb3737bffccd",
   "metadata": {},
   "outputs": [
    {
     "name": "stderr",
     "output_type": "stream",
     "text": [
      "C:\\Users\\dlara\\anaconda3\\Lib\\site-packages\\sklearn\\base.py:493: UserWarning: X does not have valid feature names, but LinearRegression was fitted with feature names\n",
      "  warnings.warn(\n"
     ]
    },
    {
     "data": {
      "text/plain": [
       "array([634560.41090478])"
      ]
     },
     "execution_count": 35,
     "metadata": {},
     "output_type": "execute_result"
    }
   ],
   "source": [
    "reg.predict([[355,3,20]])"
   ]
  },
  {
   "cell_type": "markdown",
   "id": "3fb9a01c-0ecd-417d-9082-24f841c57367",
   "metadata": {},
   "source": [
    "Modelimizin sabit sayısına ve katsayısına ulaşmak için:"
   ]
  },
  {
   "cell_type": "code",
   "execution_count": 37,
   "id": "624e09ba-c222-4d3d-bf2e-52d3fbc17f27",
   "metadata": {},
   "outputs": [
    {
     "data": {
      "text/plain": [
       "array([ 1056.72066377, 14834.33425524, -1590.87317266])"
      ]
     },
     "execution_count": 37,
     "metadata": {},
     "output_type": "execute_result"
    }
   ],
   "source": [
    "reg.coef_"
   ]
  },
  {
   "cell_type": "code",
   "execution_count": 39,
   "id": "eee2279c-3f01-4747-bf75-f9c8615f14fa",
   "metadata": {},
   "outputs": [
    {
     "data": {
      "text/plain": [
       "246739.0359541683"
      ]
     },
     "execution_count": 39,
     "metadata": {},
     "output_type": "execute_result"
    }
   ],
   "source": [
    "reg.intercept_"
   ]
  },
  {
   "cell_type": "markdown",
   "id": "9f28f47f-5b3f-4133-85f4-e3aa7e55ce6c",
   "metadata": {},
   "source": [
    "Birden fazla veriyle predict yapmak:"
   ]
  },
  {
   "cell_type": "code",
   "execution_count": 49,
   "id": "b2ce5a76-5dce-4ec0-b0e7-ddb4ff11a548",
   "metadata": {},
   "outputs": [
    {
     "name": "stderr",
     "output_type": "stream",
     "text": [
      "C:\\Users\\dlara\\anaconda3\\Lib\\site-packages\\sklearn\\base.py:493: UserWarning: X does not have valid feature names, but LinearRegression was fitted with feature names\n",
      "  warnings.warn(\n"
     ]
    },
    {
     "data": {
      "text/plain": [
       "array([533213.39391545, 578790.79415251, 634560.41090478])"
      ]
     },
     "execution_count": 49,
     "metadata": {},
     "output_type": "execute_result"
    }
   ],
   "source": [
    "reg.predict([[230, 4, 10], [230, 6, 0], [355, 3, 20]])"
   ]
  },
  {
   "cell_type": "code",
   "execution_count": null,
   "id": "d72090ee-65ee-4486-b38d-5894eb2407d7",
   "metadata": {},
   "outputs": [],
   "source": []
  }
 ],
 "metadata": {
  "kernelspec": {
   "display_name": "Python 3 (ipykernel)",
   "language": "python",
   "name": "python3"
  },
  "language_info": {
   "codemirror_mode": {
    "name": "ipython",
    "version": 3
   },
   "file_extension": ".py",
   "mimetype": "text/x-python",
   "name": "python",
   "nbconvert_exporter": "python",
   "pygments_lexer": "ipython3",
   "version": "3.11.7"
  }
 },
 "nbformat": 4,
 "nbformat_minor": 5
}
